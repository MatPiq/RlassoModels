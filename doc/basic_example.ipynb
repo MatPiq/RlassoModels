{
 "cells": [
  {
   "cell_type": "markdown",
   "id": "282d3646",
   "metadata": {},
   "source": [
    "# Examples"
   ]
  },
  {
   "cell_type": "markdown",
   "id": "46fce985",
   "metadata": {},
   "source": [
    "`rlassopy` includes three estimators `Rlasso`, `RlassoEffects` and `RlassoIV`. To get started we will generate a sparse design matrix."
   ]
  },
  {
   "cell_type": "code",
   "execution_count": 1,
   "id": "79f7ea0f",
   "metadata": {},
   "outputs": [],
   "source": [
    "# imports\n",
    "from rlassopy import Rlasso\n",
    "import pandas as pd\n",
    "import numpy as np"
   ]
  },
  {
   "cell_type": "code",
   "execution_count": 2,
   "id": "ccbb66a8",
   "metadata": {},
   "outputs": [],
   "source": [
    "# Generate data some high dim data,\n",
    "# Example following cvxpy doc, see: \n",
    "# https://www.cvxpy.org/examples/machine_learning/lasso_regression.html\n",
    "def generate_data(m=100, n=20, sigma=5, density=0.2):\n",
    "    \"Generates data matrix X and observations Y.\"\n",
    "    np.random.seed(1)\n",
    "    beta_star = np.random.randn(n)\n",
    "    idxs = np.random.choice(range(n), int((1-density)*n), replace=False)\n",
    "    for idx in idxs:\n",
    "        beta_star[idx] = 0\n",
    "    X = np.random.randn(m,n)\n",
    "    y = X.dot(beta_star) + np.random.normal(0, sigma, size=m)\n",
    "    return X, y, beta_star\n",
    "\n",
    "m = 100\n",
    "n = 20\n",
    "sigma = 5\n",
    "density = 0.2\n",
    "\n",
    "X, y, beta_star = generate_data(m, n, sigma)"
   ]
  },
  {
   "cell_type": "markdown",
   "id": "dbae40c6",
   "metadata": {},
   "source": [
    "We can instantiate the model with the parameters we want and pass the data through the `fit` method. For example:"
   ]
  },
  {
   "cell_type": "code",
   "execution_count": 3,
   "id": "88a4b22d",
   "metadata": {},
   "outputs": [],
   "source": [
    "rlasso = Rlasso(post=True, fit_intercept=False, cov_type=\"robust\").fit(X,y)"
   ]
  },
  {
   "cell_type": "markdown",
   "id": "a1c1bf12",
   "metadata": {},
   "source": [
    "We can now access the trained values from the model"
   ]
  },
  {
   "cell_type": "code",
   "execution_count": 4,
   "id": "3fcb3baa",
   "metadata": {},
   "outputs": [
    {
     "name": "stdout",
     "output_type": "stream",
     "text": [
      "lambda: 71.88088299949396\n",
      "Estimated betas: \n",
      ": [ 0.          0.          0.          0.          0.          0.\n",
      "  0.          0.          0.          0.          0.         -2.08769227\n",
      "  0.          0.          0.          0.          0.          0.\n",
      "  0.          0.        ]\n",
      "Truth: \n",
      " [ 0.          0.          0.          0.          0.86540763  0.\n",
      "  0.          0.          0.          0.          0.         -2.06014071\n",
      " -0.3224172   0.          0.          0.          0.         -0.87785842\n",
      "  0.          0.        ]\n"
     ]
    }
   ],
   "source": [
    "print(f\"lambda: {rlasso.lambd_}\")\n",
    "print(f\"Estimated betas: \\n: {rlasso.coef_}\")\n",
    "print(f\"Truth: \\n {beta_star}\")"
   ]
  },
  {
   "cell_type": "markdown",
   "id": "0c613be8",
   "metadata": {},
   "source": [
    "and `predict` to pass predict some new unsean data:"
   ]
  },
  {
   "cell_type": "code",
   "execution_count": 5,
   "id": "79078074",
   "metadata": {},
   "outputs": [
    {
     "name": "stdout",
     "output_type": "stream",
     "text": [
      "MSE: 37.15980982826132\n"
     ]
    }
   ],
   "source": [
    "X_new = np.random.randn(m,n)\n",
    "e = y - rlasso.predict(X_new)\n",
    "print(f\"MSE: {np.mean(e**2)}\")"
   ]
  },
  {
   "cell_type": "markdown",
   "id": "05cb5acd",
   "metadata": {},
   "source": [
    "An alternative to `fit`, is `fit_formula` which adopts the formula language from `R`."
   ]
  },
  {
   "cell_type": "code",
   "execution_count": 6,
   "id": "e6ce985d",
   "metadata": {},
   "outputs": [
    {
     "name": "stdout",
     "output_type": "stream",
     "text": [
      "lambda: 61.169479987151185\n",
      "coefs: \n",
      ": [ 0.          0.         -2.08769227  0.        ]\n",
      "iterations: \n",
      ": 1\n"
     ]
    }
   ],
   "source": [
    "# create pandas dataframe\n",
    "cols = [\"y\"] + [f\"x{i}\" for i in range(1,X.shape[1]+1)]\n",
    "data = pd.DataFrame(np.hstack([y.reshape(-1,1), X]), columns = cols)\n",
    "\n",
    "# define formula\n",
    "formula = \"y ~ x1 + x2 + x12 + x15 -1\"\n",
    "\n",
    "rlasso = Rlasso(post=True, fit_intercept=False, cov_type=\"robust\").fit_formula(formula, data)\n",
    "\n",
    "print(f\"lambda: {rlasso.lambd_}\")\n",
    "print(f\"coefs: \\n: {rlasso.coef_}\")\n",
    "print(f\"iterations: \\n: {rlasso.n_iter_}\")"
   ]
  }
 ],
 "metadata": {
  "kernelspec": {
   "display_name": "Python 3 (ipykernel)",
   "language": "python",
   "name": "python3"
  },
  "language_info": {
   "codemirror_mode": {
    "name": "ipython",
    "version": 3
   },
   "file_extension": ".py",
   "mimetype": "text/x-python",
   "name": "python",
   "nbconvert_exporter": "python",
   "pygments_lexer": "ipython3",
   "version": "3.10.2"
  }
 },
 "nbformat": 4,
 "nbformat_minor": 5
}
