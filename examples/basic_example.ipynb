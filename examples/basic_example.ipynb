{
 "cells": [
  {
   "cell_type": "markdown",
   "id": "d0cb2cc1",
   "metadata": {},
   "source": [
    "# Basic example of how to use rlassopy"
   ]
  },
  {
   "cell_type": "markdown",
   "id": "ab4b5640",
   "metadata": {},
   "source": [
    "`rlassopy` includes three estimators `Rlasso`, `RlassoEffects` and `RlassoIV`. To get started we will generate a sparse design matrix."
   ]
  },
  {
   "cell_type": "code",
   "execution_count": 26,
   "id": "6685d266",
   "metadata": {},
   "outputs": [],
   "source": [
    "# imports\n",
    "from rlassopy import Rlasso\n",
    "from sklearn.linear_model import Lasso, LinearRegression\n",
    "from sklearn.pipeline import Pipeline\n",
    "import pandas as pd\n",
    "import numpy as np"
   ]
  },
  {
   "cell_type": "code",
   "execution_count": 30,
   "id": "511f364b",
   "metadata": {},
   "outputs": [],
   "source": [
    "# Generate data some high dim data,\n",
    "# Example following cvxpy doc, see: \n",
    "# https://www.cvxpy.org/examples/machine_learning/lasso_regression.html\n",
    "def generate_data(m=100, n=20, sigma=5, density=0.2):\n",
    "    \"Generates data matrix X and observations Y.\"\n",
    "    np.random.seed(1)\n",
    "    beta_star = np.random.randn(n)\n",
    "    idxs = np.random.choice(range(n), int((1-density)*n), replace=False)\n",
    "    for idx in idxs:\n",
    "        beta_star[idx] = 0\n",
    "    X = np.random.randn(m,n)\n",
    "    y = X.dot(beta_star) + np.random.normal(0, sigma, size=m)\n",
    "    return X, y, beta_star\n",
    "\n",
    "m = 100\n",
    "n = 20\n",
    "sigma = 5\n",
    "density = 0.2\n",
    "\n",
    "X, y, beta_star = generate_data(m, n, sigma)"
   ]
  },
  {
   "cell_type": "markdown",
   "id": "2161c238",
   "metadata": {},
   "source": [
    "We can instantiate the model with the parameters we want and pass the data through the `fit` method. For example:"
   ]
  },
  {
   "cell_type": "code",
   "execution_count": 31,
   "id": "fd9d0f0b",
   "metadata": {},
   "outputs": [],
   "source": [
    "rlasso = Rlasso(post=True, fit_intercept=False, cov_type=\"robust\").fit(X,y)"
   ]
  },
  {
   "cell_type": "markdown",
   "id": "d434422b",
   "metadata": {},
   "source": [
    "We can now access the trained values from the model"
   ]
  },
  {
   "cell_type": "code",
   "execution_count": 32,
   "id": "c3752b49",
   "metadata": {},
   "outputs": [
    {
     "name": "stdout",
     "output_type": "stream",
     "text": [
      "lambda: 71.88088299949396\n",
      "coefs: \n",
      ": [ 0.          0.          0.          0.          0.          0.\n",
      "  0.          0.          0.          0.          0.         -2.08769227\n",
      "  0.          0.          0.          0.          0.          0.\n",
      "  0.          0.        ]\n"
     ]
    }
   ],
   "source": [
    "print(f\"lambda: {rlasso.lambd_}\")\n",
    "print(f\"coefs: \\n: {rlasso.coef_}\")"
   ]
  },
  {
   "cell_type": "markdown",
   "id": "2759cd79",
   "metadata": {},
   "source": [
    "and `predict` to pass predict some new unsean data:"
   ]
  },
  {
   "cell_type": "code",
   "execution_count": 33,
   "id": "95ec06eb",
   "metadata": {},
   "outputs": [
    {
     "name": "stdout",
     "output_type": "stream",
     "text": [
      "MSE: 37.15980982826132\n"
     ]
    }
   ],
   "source": [
    "X_new = np.random.randn(m,n)\n",
    "e = y - rlasso.predict(X_new)\n",
    "print(f\"MSE: {np.mean(e**2)}\")"
   ]
  },
  {
   "cell_type": "markdown",
   "id": "0756f3b1",
   "metadata": {},
   "source": [
    "An alternative to `fit`, is `fit_formula` which adopts the formula language from `R`."
   ]
  },
  {
   "cell_type": "code",
   "execution_count": 37,
   "id": "c262ad9b",
   "metadata": {},
   "outputs": [
    {
     "name": "stdout",
     "output_type": "stream",
     "text": [
      "lambda: 61.07834359764782\n",
      "coefs: \n",
      ": [ 0.          0.         -2.08769227  0.        ]\n"
     ]
    }
   ],
   "source": [
    "# create pandas dataframe\n",
    "cols = [\"y\"] + [f\"x{i}\" for i in range(1,X.shape[1]+1)]\n",
    "data = pd.DataFrame(np.hstack([y.reshape(-1,1), X]), columns = cols)\n",
    "\n",
    "# define formula\n",
    "formula = \"y ~ x1 + x2 + x12 + x15 -1\"\n",
    "\n",
    "rlasso = Rlasso(post=True, fit_intercept=False, cov_type=\"robust\", x_dependent=True).fit_formula(formula, data)\n",
    "print(f\"lambda: {rlasso.lambd_}\")\n",
    "print(f\"coefs: \\n: {rlasso.coef_}\")"
   ]
  },
  {
   "cell_type": "markdown",
   "id": "b5d63548",
   "metadata": {},
   "source": [
    "## Sklearn compatibility"
   ]
  },
  {
   "cell_type": "markdown",
   "id": "2ae2af53",
   "metadata": {},
   "source": [
    "`Rlasso` is completely compatible with the sklearn framework and can be passed for example into a pipeline."
   ]
  }
 ],
 "metadata": {
  "kernelspec": {
   "display_name": "Python 3 (ipykernel)",
   "language": "python",
   "name": "python3"
  },
  "language_info": {
   "codemirror_mode": {
    "name": "ipython",
    "version": 3
   },
   "file_extension": ".py",
   "mimetype": "text/x-python",
   "name": "python",
   "nbconvert_exporter": "python",
   "pygments_lexer": "ipython3",
   "version": "3.10.2"
  }
 },
 "nbformat": 4,
 "nbformat_minor": 5
}
